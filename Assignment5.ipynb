{
 "cells": [
  {
   "cell_type": "markdown",
   "id": "b10a0a9d-f9f0-4a4d-9749-944898b6a70d",
   "metadata": {},
   "source": [
    "Task 1 - create a dictionary & do operations on that  "
   ]
  },
  {
   "cell_type": "code",
   "execution_count": 1,
   "id": "03b262c4-ea59-4bc0-a614-e0eb75fb1282",
   "metadata": {},
   "outputs": [
    {
     "name": "stdin",
     "output_type": "stream",
     "text": [
      "How many students do you want to add?  6\n",
      "Enter name of student 1:  mohit\n",
      "Enter marks of mohit:  90\n",
      "Enter name of student 2:  rohit\n",
      "Enter marks of rohit:  89\n",
      "Enter name of student 3:  john\n",
      "Enter marks of john:  91\n",
      "Enter name of student 4:  ira\n",
      "Enter marks of ira:  97\n",
      "Enter name of student 5:  rani\n",
      "Enter marks of rani:  95\n",
      "Enter name of student 6:  ravi\n",
      "Enter marks of ravi:  94\n"
     ]
    },
    {
     "name": "stdout",
     "output_type": "stream",
     "text": [
      "\n",
      "Final dictionary:\n",
      "{'mohit': 90, 'rohit': 89, 'john': 91, 'ira': 97, 'rani': 95, 'ravi': 94}\n"
     ]
    }
   ],
   "source": [
    "data = {}\n",
    "\n",
    "n = int(input(\"How many students do you want to add? \"))\n",
    "\n",
    "for i in range(n):\n",
    "    name = input(f\"Enter name of student {i+1}: \")\n",
    "    marks = int(input(f\"Enter marks of {name}: \"))\n",
    "    data[name] = marks \n",
    "\n",
    "print(\"\\nFinal dictionary:\")\n",
    "print(data)\n"
   ]
  },
  {
   "cell_type": "code",
   "execution_count": 2,
   "id": "60dd7cf4-4f4d-47c6-9650-8550a4ef637c",
   "metadata": {},
   "outputs": [
    {
     "name": "stdout",
     "output_type": "stream",
     "text": [
      "dict_keys(['mohit', 'rohit', 'john', 'ira', 'rani', 'ravi'])\n",
      "dict_values([90, 89, 91, 97, 95, 94])\n"
     ]
    }
   ],
   "source": [
    "print(data.keys())\n",
    "print(data.values())"
   ]
  },
  {
   "cell_type": "code",
   "execution_count": 3,
   "id": "f9f73bad-4a82-4c51-b3a5-23d97eca64aa",
   "metadata": {},
   "outputs": [
    {
     "name": "stdin",
     "output_type": "stream",
     "text": [
      "Enter student's name  rani\n"
     ]
    },
    {
     "name": "stdout",
     "output_type": "stream",
     "text": [
      "rani 's marks: 95\n"
     ]
    },
    {
     "name": "stdin",
     "output_type": "stream",
     "text": [
      "\n",
      "You want to search agian (y/n) : n\n"
     ]
    },
    {
     "name": "stdout",
     "output_type": "stream",
     "text": [
      "\n",
      "THANK YOU\n"
     ]
    }
   ],
   "source": [
    "ch='y'\n",
    "while ch=='y'or ch=='Y':\n",
    "    name=input(\"Enter student's name \")\n",
    "    if name in data.keys():\n",
    "        print(name,\"'s marks:\", data[name])\n",
    "    else:\n",
    "        print(name , 'is not found in the data')\n",
    "\n",
    "    ch=input('\\nYou want to search agian (y/n) :')\n",
    "\n",
    "print('\\nTHANK YOU')"
   ]
  },
  {
   "cell_type": "code",
   "execution_count": null,
   "id": "75bd9164-4229-4ee9-80fa-8d1a2dac0721",
   "metadata": {},
   "outputs": [],
   "source": []
  },
  {
   "cell_type": "markdown",
   "id": "56a356d0-01ee-467e-bfcf-23615196eeef",
   "metadata": {},
   "source": [
    "Task 2 - create a list & operate slicing & reverse the list by two methods"
   ]
  },
  {
   "cell_type": "code",
   "execution_count": 4,
   "id": "66b21007-0878-4b24-82f4-c49b1aaaf8cc",
   "metadata": {},
   "outputs": [
    {
     "name": "stdout",
     "output_type": "stream",
     "text": [
      "Original list  [1, 2, 3, 4, 5, 6, 7, 8, 9, 10]\n",
      "Extracted first 5 element of the Original list [1, 2, 3, 4, 5]\n",
      "reversed list by method one  [5, 4, 3, 2, 1]\n",
      "reversed list by method two  [5, 4, 3, 2, 1]\n"
     ]
    }
   ],
   "source": [
    "l=[]\n",
    "for i in range(10):\n",
    "    l.append(i+1)\n",
    "print(f'Original list ',l)\n",
    "\n",
    "l1=l[:5]\n",
    "print(f'Extracted first 5 element of the Original list',l1)\n",
    "l2=list(reversed(l1))\n",
    "print(f'reversed list by method one ',l2)\n",
    "l4=l1[::-1]\n",
    "print(f'reversed list by method two ',l4)"
   ]
  },
  {
   "cell_type": "code",
   "execution_count": null,
   "id": "c21b2465-f5c1-4e2b-8d89-635e594231f1",
   "metadata": {},
   "outputs": [],
   "source": []
  }
 ],
 "metadata": {
  "kernelspec": {
   "display_name": "Python 3 (ipykernel)",
   "language": "python",
   "name": "python3"
  },
  "language_info": {
   "codemirror_mode": {
    "name": "ipython",
    "version": 3
   },
   "file_extension": ".py",
   "mimetype": "text/x-python",
   "name": "python",
   "nbconvert_exporter": "python",
   "pygments_lexer": "ipython3",
   "version": "3.11.13"
  }
 },
 "nbformat": 4,
 "nbformat_minor": 5
}
